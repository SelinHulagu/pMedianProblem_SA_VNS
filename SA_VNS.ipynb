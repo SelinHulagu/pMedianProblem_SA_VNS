{
 "cells": [
  {
   "cell_type": "code",
   "execution_count": 1,
   "metadata": {},
   "outputs": [],
   "source": [
    "import pandas as pd\n",
    "import numpy as np\n",
    "import random as rd\n",
    "import math \n",
    "import itertools\n",
    "import time\n",
    "from numpy import genfromtxt"
   ]
  },
  {
   "cell_type": "markdown",
   "metadata": {},
   "source": [
    "# Initial Solutions for SA and VNS"
   ]
  },
  {
   "cell_type": "code",
   "execution_count": 19,
   "metadata": {},
   "outputs": [],
   "source": [
    "def Initialization(p, n):\n",
    "    InitialAssignments=[]\n",
    "    for i in range(10):\n",
    "        InitialAssignments.append(rd.sample(range(n),p))\n",
    "    return InitialAssignments"
   ]
  },
  {
   "cell_type": "code",
   "execution_count": 20,
   "metadata": {},
   "outputs": [],
   "source": [
    "#InitialSolution_NumberOfCustormers_NumberOfDepots\n",
    "InitialSolutions51_4=Initialization(4, 51)\n",
    "InitialSolutions51_6=Initialization(6, 51)\n",
    "InitialSolutions51_8=Initialization(8, 51)\n",
    "InitialSolutions76_4=Initialization(4, 76)\n",
    "InitialSolutions76_6=Initialization(6, 76)\n",
    "InitialSolutions76_8=Initialization(8, 76)\n",
    "InitialSolutions101_4=Initialization(4, 101)\n",
    "InitialSolutions101_6=Initialization(6, 101)\n",
    "InitialSolutions101_8=Initialization(8, 101)"
   ]
  },
  {
   "cell_type": "code",
   "execution_count": 21,
   "metadata": {},
   "outputs": [
    {
     "data": {
      "text/plain": [
       "[[43, 2, 24, 14],\n",
       " [9, 12, 3, 41],\n",
       " [33, 35, 6, 49],\n",
       " [8, 13, 42, 22],\n",
       " [28, 30, 37, 23],\n",
       " [32, 6, 22, 13],\n",
       " [39, 27, 18, 5],\n",
       " [8, 4, 29, 28],\n",
       " [10, 25, 17, 9],\n",
       " [5, 40, 36, 33]]"
      ]
     },
     "execution_count": 21,
     "metadata": {},
     "output_type": "execute_result"
    }
   ],
   "source": [
    "InitialSolutions51_4"
   ]
  },
  {
   "cell_type": "code",
   "execution_count": 22,
   "metadata": {},
   "outputs": [
    {
     "data": {
      "text/plain": [
       "[[36, 26, 44, 29, 38, 30],\n",
       " [18, 43, 28, 44, 50, 4],\n",
       " [33, 42, 8, 7, 21, 15],\n",
       " [31, 29, 14, 1, 4, 19],\n",
       " [21, 13, 25, 41, 40, 5],\n",
       " [49, 11, 16, 10, 24, 29],\n",
       " [2, 11, 23, 16, 12, 1],\n",
       " [46, 1, 10, 23, 30, 45],\n",
       " [2, 50, 32, 29, 20, 15],\n",
       " [39, 9, 4, 29, 33, 17]]"
      ]
     },
     "execution_count": 22,
     "metadata": {},
     "output_type": "execute_result"
    }
   ],
   "source": [
    "InitialSolutions51_6"
   ]
  },
  {
   "cell_type": "code",
   "execution_count": 23,
   "metadata": {},
   "outputs": [
    {
     "data": {
      "text/plain": [
       "[[11, 44, 25, 2, 17, 3, 26, 20],\n",
       " [17, 24, 12, 40, 3, 18, 19, 4],\n",
       " [30, 44, 28, 8, 32, 47, 12, 42],\n",
       " [26, 39, 8, 0, 40, 15, 49, 25],\n",
       " [18, 2, 25, 50, 7, 34, 16, 36],\n",
       " [9, 7, 30, 11, 21, 50, 29, 43],\n",
       " [38, 44, 29, 8, 24, 34, 20, 7],\n",
       " [15, 49, 4, 45, 18, 13, 46, 31],\n",
       " [19, 18, 31, 27, 34, 48, 40, 17],\n",
       " [18, 32, 38, 31, 7, 42, 26, 33]]"
      ]
     },
     "execution_count": 23,
     "metadata": {},
     "output_type": "execute_result"
    }
   ],
   "source": [
    "InitialSolutions51_8"
   ]
  },
  {
   "cell_type": "code",
   "execution_count": 24,
   "metadata": {},
   "outputs": [
    {
     "data": {
      "text/plain": [
       "[[43, 63, 4, 1],\n",
       " [45, 59, 29, 17],\n",
       " [16, 35, 36, 17],\n",
       " [40, 56, 67, 14],\n",
       " [14, 3, 29, 30],\n",
       " [40, 37, 74, 11],\n",
       " [6, 62, 28, 59],\n",
       " [50, 60, 40, 29],\n",
       " [4, 26, 27, 23],\n",
       " [49, 34, 13, 71]]"
      ]
     },
     "execution_count": 24,
     "metadata": {},
     "output_type": "execute_result"
    }
   ],
   "source": [
    "InitialSolutions76_4"
   ]
  },
  {
   "cell_type": "code",
   "execution_count": 25,
   "metadata": {},
   "outputs": [
    {
     "data": {
      "text/plain": [
       "[[3, 64, 1, 37, 28, 22],\n",
       " [63, 15, 50, 44, 40, 57],\n",
       " [20, 65, 21, 69, 48, 23],\n",
       " [37, 45, 42, 52, 31, 43],\n",
       " [11, 30, 75, 58, 3, 27],\n",
       " [34, 64, 55, 58, 6, 65],\n",
       " [60, 70, 16, 57, 32, 74],\n",
       " [67, 18, 5, 35, 9, 53],\n",
       " [20, 47, 25, 45, 34, 43],\n",
       " [14, 16, 53, 73, 46, 71]]"
      ]
     },
     "execution_count": 25,
     "metadata": {},
     "output_type": "execute_result"
    }
   ],
   "source": [
    "InitialSolutions76_6"
   ]
  },
  {
   "cell_type": "code",
   "execution_count": 26,
   "metadata": {},
   "outputs": [
    {
     "data": {
      "text/plain": [
       "[[49, 8, 20, 60, 41, 43, 46, 67],\n",
       " [70, 55, 5, 22, 15, 39, 2, 61],\n",
       " [32, 51, 21, 57, 3, 43, 0, 18],\n",
       " [5, 75, 20, 6, 23, 52, 66, 74],\n",
       " [45, 72, 10, 9, 25, 66, 13, 7],\n",
       " [4, 60, 74, 16, 54, 63, 35, 22],\n",
       " [29, 46, 75, 59, 71, 42, 36, 60],\n",
       " [44, 52, 25, 32, 24, 58, 23, 0],\n",
       " [12, 57, 65, 45, 54, 18, 40, 2],\n",
       " [15, 38, 48, 1, 58, 30, 31, 54]]"
      ]
     },
     "execution_count": 26,
     "metadata": {},
     "output_type": "execute_result"
    }
   ],
   "source": [
    "InitialSolutions76_8"
   ]
  },
  {
   "cell_type": "code",
   "execution_count": 27,
   "metadata": {},
   "outputs": [
    {
     "data": {
      "text/plain": [
       "[[54, 99, 1, 21],\n",
       " [29, 53, 73, 46],\n",
       " [20, 64, 61, 30],\n",
       " [3, 18, 70, 98],\n",
       " [39, 51, 74, 5],\n",
       " [42, 87, 7, 54],\n",
       " [39, 53, 64, 57],\n",
       " [15, 68, 52, 70],\n",
       " [1, 49, 7, 4],\n",
       " [55, 100, 10, 34]]"
      ]
     },
     "execution_count": 27,
     "metadata": {},
     "output_type": "execute_result"
    }
   ],
   "source": [
    "InitialSolutions101_4"
   ]
  },
  {
   "cell_type": "code",
   "execution_count": 28,
   "metadata": {},
   "outputs": [
    {
     "data": {
      "text/plain": [
       "[[8, 51, 48, 84, 71, 49],\n",
       " [89, 74, 30, 40, 85, 58],\n",
       " [76, 23, 74, 25, 42, 69],\n",
       " [6, 50, 25, 47, 24, 90],\n",
       " [35, 62, 92, 30, 39, 47],\n",
       " [98, 100, 47, 30, 49, 9],\n",
       " [0, 29, 31, 75, 83, 93],\n",
       " [52, 92, 43, 15, 89, 77],\n",
       " [4, 6, 29, 98, 34, 14],\n",
       " [58, 47, 77, 57, 46, 71]]"
      ]
     },
     "execution_count": 28,
     "metadata": {},
     "output_type": "execute_result"
    }
   ],
   "source": [
    "InitialSolutions101_6"
   ]
  },
  {
   "cell_type": "code",
   "execution_count": 29,
   "metadata": {},
   "outputs": [
    {
     "data": {
      "text/plain": [
       "[[0, 84, 81, 93, 66, 68, 41, 98],\n",
       " [26, 80, 1, 29, 76, 46, 79, 96],\n",
       " [76, 6, 27, 24, 77, 19, 95, 71],\n",
       " [27, 81, 55, 19, 73, 60, 22, 92],\n",
       " [71, 82, 19, 52, 5, 62, 10, 35],\n",
       " [20, 8, 4, 35, 0, 37, 64, 95],\n",
       " [100, 90, 62, 12, 56, 60, 13, 71],\n",
       " [29, 37, 90, 52, 43, 87, 48, 85],\n",
       " [33, 60, 73, 52, 28, 62, 32, 36],\n",
       " [79, 20, 71, 41, 25, 26, 22, 9]]"
      ]
     },
     "execution_count": 29,
     "metadata": {},
     "output_type": "execute_result"
    }
   ],
   "source": [
    "InitialSolutions101_8"
   ]
  },
  {
   "cell_type": "markdown",
   "metadata": {},
   "source": [
    "# Common functions within SA and VNS"
   ]
  },
  {
   "cell_type": "code",
   "execution_count": 30,
   "metadata": {},
   "outputs": [],
   "source": [
    "def EuclideanDistance (z):\n",
    "    ''' Function to find euclidean distance between each customer '''\n",
    "    Distance=[]\n",
    "    for i in range (0,len(z)):\n",
    "        EachCustomer=[]\n",
    "        for j in range(0,len(z)):\n",
    "            EachCustomer.append((np.linalg.norm(z[i]-z[j])))\n",
    "        Distance.append(EachCustomer)\n",
    "    return Distance"
   ]
  },
  {
   "cell_type": "code",
   "execution_count": 31,
   "metadata": {},
   "outputs": [],
   "source": [
    "def Assignment(EuclideanDistance, depots):\n",
    "    ''' Function to assign each customer to its nearest depot'''\n",
    "    CustomerToDepotAssignment=[]\n",
    "    for j in range(0, len(EuclideanDistance)):\n",
    "        possibleassignments=[]\n",
    "        for i in depots:\n",
    "            if i!=j:\n",
    "                possibleassignments.append(EuclideanDistance[j][i])\n",
    "            else:\n",
    "                possibleassignments.append(999999)\n",
    "        CustomerToDepotAssignment.append(depots[possibleassignments.index(min(possibleassignments))])\n",
    "    return CustomerToDepotAssignment"
   ]
  },
  {
   "cell_type": "code",
   "execution_count": 32,
   "metadata": {},
   "outputs": [],
   "source": [
    "def ObjectiveValue (CustomerToDepotAssignment, EuclideanDistance, demand, depots):\n",
    "    ''' Function to find objective function according to the assignment'''\n",
    "    obj=[]\n",
    "    for i in range(len(CustomerToDepotAssignment)):\n",
    "        obj.append((EuclideanDistance[i][CustomerToDepotAssignment[i]])*demand[i])\n",
    "    objective_value=0\n",
    "    for i in ([j for j in range(len(obj)) if not j in depots]):\n",
    "        objective_value+=obj[i]\n",
    "    return objective_value"
   ]
  },
  {
   "cell_type": "markdown",
   "metadata": {},
   "source": [
    "# Input Data"
   ]
  },
  {
   "cell_type": "code",
   "execution_count": 33,
   "metadata": {},
   "outputs": [],
   "source": [
    "#x_NumberOfCustomers, y_NumberOfCustomers, demand= dem_NumberOfCustomers,(x,y) = z_NumberOfCustomers\n",
    "x51 = genfromtxt('data_x51', delimiter=',')\n",
    "y51 = genfromtxt('data_y51', delimiter=',')\n",
    "dem51 = genfromtxt('data_dem51', delimiter=',')\n",
    "z51=np.array(list(zip(x51,y51)))"
   ]
  },
  {
   "cell_type": "code",
   "execution_count": 34,
   "metadata": {},
   "outputs": [],
   "source": [
    "x76 = genfromtxt('data_x76', delimiter=',')\n",
    "y76 = genfromtxt('data_y76', delimiter=',')\n",
    "dem76 = genfromtxt('data_dem76', delimiter=',')\n",
    "z76=np.array(list(zip(x76,y76)))"
   ]
  },
  {
   "cell_type": "code",
   "execution_count": 35,
   "metadata": {},
   "outputs": [],
   "source": [
    "x101 = genfromtxt('data_x101', delimiter=',')\n",
    "y101 = genfromtxt('data_y101', delimiter=',')\n",
    "dem101 = genfromtxt('data_dem101', delimiter=',')\n",
    "z101=np.array(list(zip(x101,y101)))"
   ]
  },
  {
   "cell_type": "markdown",
   "metadata": {},
   "source": [
    "# SA Algorithm"
   ]
  },
  {
   "cell_type": "code",
   "execution_count": 36,
   "metadata": {},
   "outputs": [],
   "source": [
    "def Perturb(X,p,n):\n",
    "    ''' Function to perform 1-swap perturbation'''\n",
    "    XNew=X.copy()\n",
    "    u=rd.randint(0,p-1)\n",
    "    XNew[u]=rd.choice([i for i in range(n) if i !=  XNew[u]])\n",
    "    return(XNew)"
   ]
  },
  {
   "cell_type": "code",
   "execution_count": 37,
   "metadata": {},
   "outputs": [],
   "source": [
    "def SA(distance,demands,initialdepots,T,L,ip,r,fp,p,n):\n",
    "    start_time = time.time()\n",
    "    #Initialization\n",
    "    DistanceArray=np.round(EuclideanDistance(distance), 2)\n",
    "    AssignmentArray=Assignment(DistanceArray,initialdepots)\n",
    "    Z=ObjectiveValue(AssignmentArray, DistanceArray, demands,initialdepots)\n",
    "    Incumbent=Z\n",
    "    X=initialdepots\n",
    "    BestSolution=X\n",
    "    terct=0\n",
    "    \n",
    "    num_iter=0\n",
    "    while terct<5:\n",
    "        #Step2.1\n",
    "        j=0\n",
    "        for i in range(0,L):\n",
    "            num_iter+=1\n",
    "            \n",
    "            #Perturb\n",
    "            Xprime=Perturb(X,p,n)\n",
    "            Zprime=ObjectiveValue(Assignment(DistanceArray, Xprime), DistanceArray, demands, Xprime)\n",
    "            delta=Zprime-Z\n",
    "            \n",
    "            #Accept or not?\n",
    "            if delta<=0:\n",
    "                X=Xprime\n",
    "                Z=Zprime\n",
    "                j+=1\n",
    "            else:\n",
    "                u=rd.uniform(0,1)\n",
    "                if u<=math.exp(-delta/T):\n",
    "                    X=Xprime\n",
    "                    Z=Zprime\n",
    "                    j+=1\n",
    "                    \n",
    "            #Update incumbent if necessary\n",
    "            if Zprime> Incumbent:\n",
    "                Incumbent=Xprime\n",
    "                BestSolution=X\n",
    "                BestIteration=num_iter\n",
    "                \n",
    "        \n",
    "        #Update\n",
    "        if j/L <= fp:\n",
    "            terct+=1\n",
    "        else:\n",
    "            terct=0\n",
    "        if j/L > ip:\n",
    "            T=T/2\n",
    "        else:\n",
    "            T=r*T\n",
    "            \n",
    "    CPU_time=(time.time() - start_time)\n",
    "    return np.round(Incumbent,2),BestSolution, BestIteration, np.round(CPU_time,2)"
   ]
  },
  {
   "cell_type": "code",
   "execution_count": 38,
   "metadata": {},
   "outputs": [],
   "source": [
    "#SA Solutions: Solution_pNumberOfDepotsnNumberOfCustomers\n",
    "Solution_p4n51=[]\n",
    "for i in range (0,10):\n",
    "    Solution_p4n51.append(SA(z51, dem51,InitialSolutions51_4[i],10000000,200,0.7,0.9,0.01,4,51))\n",
    "Solution_p6n51=[]\n",
    "for i in range (0,10):\n",
    "    Solution_p6n51.append(SA(z51, dem51,InitialSolutions51_6[i],10000000,200,0.7,0.9,0.01,6,51))\n",
    "Solution_p8n51=[]\n",
    "for i in range (0,10):\n",
    "    Solution_p8n51.append(SA(z51, dem51,InitialSolutions51_8[i],10000000,200,0.7,0.9,0.01,8,51)) "
   ]
  },
  {
   "cell_type": "code",
   "execution_count": 39,
   "metadata": {},
   "outputs": [
    {
     "data": {
      "text/plain": [
       "[(7555.76, [28, 7, 48, 3], 9841, 2.08),\n",
       " (7662.67, [16, 49, 7, 13], 8248, 1.77),\n",
       " (7555.76, [28, 48, 3, 7], 9689, 2.09),\n",
       " (7555.76, [3, 28, 7, 48], 9339, 2.61),\n",
       " (7555.76, [28, 48, 7, 3], 9791, 2.76),\n",
       " (7662.67, [7, 16, 49, 13], 10174, 2.08),\n",
       " (7555.76, [7, 28, 48, 3], 9477, 1.96),\n",
       " (7555.76, [7, 3, 28, 48], 10364, 2.52),\n",
       " (7555.76, [28, 7, 3, 48], 11554, 3.03),\n",
       " (7555.76, [7, 48, 28, 3], 11892, 3.1)]"
      ]
     },
     "execution_count": 39,
     "metadata": {},
     "output_type": "execute_result"
    }
   ],
   "source": [
    "Solution_p4n51"
   ]
  },
  {
   "cell_type": "code",
   "execution_count": 40,
   "metadata": {},
   "outputs": [
    {
     "data": {
      "text/plain": [
       "[(5836.88, [8, 36, 7, 18, 13, 19], 8965, 3.1),\n",
       " (5836.88, [18, 13, 8, 7, 36, 19], 8903, 2.9),\n",
       " (5836.88, [18, 19, 13, 7, 36, 8], 9610, 3.26),\n",
       " (5836.88, [8, 18, 19, 36, 13, 7], 9883, 2.65),\n",
       " (5836.88, [13, 7, 36, 18, 8, 19], 8114, 3.02),\n",
       " (5926.07, [28, 13, 36, 7, 8, 18], 9478, 2.61),\n",
       " (5890.22, [28, 7, 18, 48, 13, 16], 9240, 3.32),\n",
       " (5836.88, [13, 19, 18, 8, 7, 36], 8968, 4.05),\n",
       " (5836.88, [18, 7, 36, 8, 13, 19], 10128, 5.01),\n",
       " (5890.22, [18, 13, 48, 16, 28, 7], 10455, 7.57)]"
      ]
     },
     "execution_count": 40,
     "metadata": {},
     "output_type": "execute_result"
    }
   ],
   "source": [
    "Solution_p6n51"
   ]
  },
  {
   "cell_type": "code",
   "execution_count": 41,
   "metadata": {},
   "outputs": [
    {
     "data": {
      "text/plain": [
       "[(4704.48, [25, 14, 18, 8, 13, 0, 46, 19], 8892, 4.08),\n",
       " (4704.48, [19, 13, 46, 8, 18, 25, 0, 14], 8484, 3.3),\n",
       " (4770.61, [13, 34, 9, 49, 16, 25, 18, 0], 9080, 3.44),\n",
       " (4753.87, [7, 32, 0, 16, 13, 19, 8, 18], 8737, 3.16),\n",
       " (4725.67, [8, 46, 19, 7, 0, 18, 14, 13], 9053, 3.32),\n",
       " (4704.48, [46, 14, 13, 18, 19, 8, 0, 25], 9312, 3.87),\n",
       " (4832.23, [48, 34, 25, 49, 18, 0, 16, 13], 10490, 3.61),\n",
       " (4704.48, [18, 14, 8, 25, 46, 13, 0, 19], 7995, 2.97),\n",
       " (4769.41, [18, 0, 13, 8, 32, 11, 19, 7], 9704, 3.36),\n",
       " (4782.65, [46, 49, 18, 25, 32, 13, 34, 0], 9140, 2.75)]"
      ]
     },
     "execution_count": 41,
     "metadata": {},
     "output_type": "execute_result"
    }
   ],
   "source": [
    "Solution_p8n51"
   ]
  },
  {
   "cell_type": "code",
   "execution_count": 42,
   "metadata": {},
   "outputs": [],
   "source": [
    "Solution_p4n76=[]\n",
    "for i in range (0,10):\n",
    "    Solution_p4n76.append(SA(z76, dem76,InitialSolutions76_4[i],10000000,200,0.7,0.9,0.01,4,76))\n",
    "Solution_p6n76=[]\n",
    "for i in range (0,10):\n",
    "    Solution_p6n76.append(SA(z76, dem76,InitialSolutions76_6[i],10000000,200,0.7,0.9,0.01,6,76))\n",
    "Solution_p8n76=[]\n",
    "for i in range (0,10):\n",
    "    Solution_p8n76.append(SA(z76, dem76,InitialSolutions76_8[i],10000000,200,0.7,0.9,0.01,8,76)) "
   ]
  },
  {
   "cell_type": "code",
   "execution_count": 43,
   "metadata": {},
   "outputs": [
    {
     "data": {
      "text/plain": [
       "[(23072.88, [10, 39, 0, 4], 10191, 3.56),\n",
       " (23072.88, [39, 0, 10, 4], 9216, 3.22),\n",
       " (23072.88, [4, 10, 39, 0], 10800, 3.21),\n",
       " (23072.88, [4, 39, 0, 10], 9211, 3.24),\n",
       " (23072.88, [4, 39, 10, 0], 10623, 3.1),\n",
       " (23095.52, [31, 4, 0, 52], 8480, 3.23),\n",
       " (23072.88, [10, 39, 0, 4], 9534, 3.58),\n",
       " (23095.52, [0, 4, 52, 31], 10142, 3.41),\n",
       " (23072.88, [0, 10, 39, 4], 10361, 3.47),\n",
       " (23116.52, [37, 39, 0, 4], 10321, 3.5)]"
      ]
     },
     "execution_count": 43,
     "metadata": {},
     "output_type": "execute_result"
    }
   ],
   "source": [
    "Solution_p4n76"
   ]
  },
  {
   "cell_type": "code",
   "execution_count": 44,
   "metadata": {},
   "outputs": [
    {
     "data": {
      "text/plain": [
       "[(17736.39, [12, 75, 35, 37, 0, 31], 9533, 4.78),\n",
       " (17705.87, [37, 31, 12, 46, 75, 42], 11044, 4.61),\n",
       " (17705.87, [42, 46, 12, 75, 31, 37], 9209, 4.55),\n",
       " (18128.88, [31, 40, 45, 72, 36, 37], 10358, 4.16),\n",
       " (17736.39, [0, 12, 75, 37, 35, 31], 10108, 4.25),\n",
       " (17849.95, [31, 37, 35, 12, 74, 0], 8404, 4.09),\n",
       " (17719.0, [37, 75, 12, 35, 31, 42], 10317, 4.69),\n",
       " (17705.87, [37, 46, 12, 75, 42, 31], 9618, 3.72),\n",
       " (17705.87, [31, 75, 42, 46, 37, 12], 10623, 5.1),\n",
       " (17705.87, [31, 37, 75, 12, 42, 46], 9030, 3.92)]"
      ]
     },
     "execution_count": 44,
     "metadata": {},
     "output_type": "execute_result"
    }
   ],
   "source": [
    "Solution_p6n76"
   ]
  },
  {
   "cell_type": "code",
   "execution_count": 45,
   "metadata": {},
   "outputs": [
    {
     "data": {
      "text/plain": [
       "[(15607.65, [10, 61, 31, 75, 38, 35, 41, 12], 8513, 4.85),\n",
       " (15187.63, [20, 10, 43, 75, 12, 71, 42, 36], 8580, 4.31),\n",
       " (15448.16, [12, 71, 43, 40, 32, 35, 75, 10], 9541, 5.28),\n",
       " (15339.16, [18, 37, 40, 35, 72, 12, 75, 31], 9214, 5.05),\n",
       " (15183.5, [43, 35, 40, 12, 75, 72, 71, 10], 9006, 4.95),\n",
       " (15507.85, [36, 27, 66, 37, 31, 62, 40, 12], 8897, 4.61),\n",
       " (15476.61, [75, 36, 37, 43, 20, 12, 40, 72], 8479, 4.83),\n",
       " (15423.87, [26, 18, 31, 35, 40, 75, 72, 37], 9047, 4.77),\n",
       " (15270.06, [75, 20, 12, 37, 40, 31, 72, 36], 10091, 5.5),\n",
       " (15187.63, [75, 71, 43, 36, 12, 20, 10, 42], 8576, 4.63)]"
      ]
     },
     "execution_count": 45,
     "metadata": {},
     "output_type": "execute_result"
    }
   ],
   "source": [
    "Solution_p8n76"
   ]
  },
  {
   "cell_type": "code",
   "execution_count": 46,
   "metadata": {},
   "outputs": [],
   "source": [
    "Solution_p4n101=[]\n",
    "for i in range (0,10):\n",
    "    Solution_p4n101.append(SA(z101, dem101,InitialSolutions101_4[i],10000000,200,0.7,0.9,0.01,4,101))\n",
    "Solution_p6n101=[]\n",
    "for i in range (0,10):\n",
    "    Solution_p6n101.append(SA(z101, dem101,InitialSolutions101_6[i],10000000,200,0.7,0.9,0.01,6,101))\n",
    "Solution_p8n101=[]\n",
    "for i in range (0,10):\n",
    "    Solution_p8n101.append(SA(z101, dem101,InitialSolutions101_8[i],10000000,200,0.7,0.9,0.01,8,101)) "
   ]
  },
  {
   "cell_type": "code",
   "execution_count": 47,
   "metadata": {},
   "outputs": [
    {
     "data": {
      "text/plain": [
       "[(54147.08, [71, 92, 6, 32], 11175, 5.38),\n",
       " (54147.08, [71, 6, 92, 32], 10679, 4.89),\n",
       " (54478.21, [98, 32, 71, 6], 9556, 5.0),\n",
       " (54168.26, [55, 6, 58, 32], 10894, 6.14),\n",
       " (54168.26, [58, 6, 55, 32], 11259, 5.13),\n",
       " (54168.26, [32, 58, 6, 55], 8855, 4.49),\n",
       " (54168.26, [32, 55, 6, 58], 10636, 5.26),\n",
       " (54147.08, [6, 71, 92, 32], 9704, 4.66),\n",
       " (54147.08, [6, 71, 32, 92], 10512, 5.47),\n",
       " (54147.08, [71, 32, 6, 92], 10774, 5.32)]"
      ]
     },
     "execution_count": 47,
     "metadata": {},
     "output_type": "execute_result"
    }
   ],
   "source": [
    "Solution_p4n101"
   ]
  },
  {
   "cell_type": "code",
   "execution_count": 48,
   "metadata": {},
   "outputs": [
    {
     "data": {
      "text/plain": [
       "[(43476.8, [81, 19, 92, 74, 2, 26], 11182, 7.63),\n",
       " (43380.44, [76, 19, 97, 26, 81, 55], 8488, 5.36),\n",
       " (43341.09, [19, 2, 97, 81, 55, 26], 10209, 6.34),\n",
       " (43731.06, [100, 92, 76, 19, 81, 74], 10713, 6.09),\n",
       " (43545.73, [26, 76, 19, 81, 97, 74], 10443, 6.17),\n",
       " (43476.8, [92, 74, 81, 26, 19, 2], 9320, 5.67),\n",
       " (43476.8, [26, 2, 19, 74, 81, 92], 10320, 6.0),\n",
       " (43967.53, [8, 92, 21, 81, 79, 68], 9639, 5.8),\n",
       " (44215.5, [79, 8, 71, 81, 92, 68], 8795, 5.05),\n",
       " (43341.09, [19, 81, 97, 2, 55, 26], 9809, 5.82)]"
      ]
     },
     "execution_count": 48,
     "metadata": {},
     "output_type": "execute_result"
    }
   ],
   "source": [
    "Solution_p6n101"
   ]
  },
  {
   "cell_type": "code",
   "execution_count": 49,
   "metadata": {},
   "outputs": [
    {
     "data": {
      "text/plain": [
       "[(37053.13, [76, 9, 81, 92, 26, 21, 70, 24], 9092, 6.87),\n",
       " (37518.42, [26, 2, 73, 54, 97, 70, 82, 61], 9281, 7.37),\n",
       " (37114.14, [76, 21, 70, 54, 81, 92, 26, 89], 11891, 8.54),\n",
       " (37955.01, [55, 92, 81, 8, 67, 100, 89, 56], 7993, 5.66),\n",
       " (37211.09, [70, 9, 76, 81, 100, 54, 21, 84], 9039, 6.81),\n",
       " (36984.35, [54, 9, 26, 21, 92, 76, 81, 70], 9764, 6.92),\n",
       " (37847.45, [47, 69, 67, 97, 8, 82, 100, 55], 7680, 6.05),\n",
       " (38121.44, [67, 26, 55, 97, 81, 80, 9, 65], 9839, 7.39),\n",
       " (37055.74, [100, 54, 9, 2, 70, 21, 92, 81], 10118, 7.72),\n",
       " (36972.23, [54, 81, 2, 92, 21, 70, 9, 26], 10122, 8.24)]"
      ]
     },
     "execution_count": 49,
     "metadata": {},
     "output_type": "execute_result"
    }
   ],
   "source": [
    "Solution_p8n101"
   ]
  },
  {
   "cell_type": "markdown",
   "metadata": {},
   "source": [
    "# VNS Algorithm"
   ]
  },
  {
   "cell_type": "code",
   "execution_count": 50,
   "metadata": {},
   "outputs": [],
   "source": [
    "def Swap1(X, p, n):\n",
    "    ''' Function to perform 1-swap perturbation'''\n",
    "    XNew=X.copy()\n",
    "    p1=rd.randint(0,p-1)\n",
    "    XNew[p1]=rd.choice([i for i in range(n) if i not in XNew])\n",
    "    return(XNew)"
   ]
  },
  {
   "cell_type": "code",
   "execution_count": 51,
   "metadata": {},
   "outputs": [],
   "source": [
    "def Swap2(X, p, n):\n",
    "    ''' Function to perform 2-swap perturbation'''\n",
    "    XNew=X.copy()\n",
    "    p1,p2=rd.sample(range(0, p), 2)\n",
    "    XNew[p1]=rd.choice([i for i in range(n) if i not in  XNew])\n",
    "    XNew[p2]=rd.choice([i for i in range(n) if i not in  XNew])\n",
    "    return(XNew)"
   ]
  },
  {
   "cell_type": "code",
   "execution_count": 52,
   "metadata": {},
   "outputs": [],
   "source": [
    "def Swap3(X, p, n):\n",
    "    ''' Function to perform 3-swap perturbation'''\n",
    "    XNew=X.copy()\n",
    "    p1, p2, p3=rd.sample(range(0, p), 3)\n",
    "    XNew[p1]=rd.choice([i for i in range(n) if i not in  XNew])\n",
    "    XNew[p2]=rd.choice([i for i in range(n) if i  not in  XNew])\n",
    "    XNew[p3]=rd.choice([i for i in range(n) if i  not in  XNew])\n",
    "    return(XNew)"
   ]
  },
  {
   "cell_type": "code",
   "execution_count": 53,
   "metadata": {},
   "outputs": [],
   "source": [
    "def NeighboorSwap1 (X, p, n, DistanceArray,demands):\n",
    "    ''' Function to perform 1-swap move operator to find all neighbors of X'''\n",
    "    Objectives=[]\n",
    "    Solutions=[]\n",
    "    k=0\n",
    "    for i in range(0,p):\n",
    "        XPrime2=X.copy()\n",
    "        for j in range(0,n):\n",
    "            if j not in XPrime2:\n",
    "                k+=1\n",
    "                XPrime2[i]=j\n",
    "                Solutions.extend(XPrime2)\n",
    "                AssignmentArray=Assignment(DistanceArray,XPrime2)\n",
    "                Objectives.append(ObjectiveValue(AssignmentArray, DistanceArray,demands,XPrime2))\n",
    "                Sol=np.reshape(Solutions, (k,p))\n",
    "    return Objectives, Sol    "
   ]
  },
  {
   "cell_type": "code",
   "execution_count": 54,
   "metadata": {},
   "outputs": [],
   "source": [
    "K=[Swap1, Swap2, Swap3] #set of shaking swaps. "
   ]
  },
  {
   "cell_type": "code",
   "execution_count": 55,
   "metadata": {},
   "outputs": [],
   "source": [
    "def VNS(initialdepots,distance,demands,p,n):\n",
    "    start_time = time.time()\n",
    "    #Initialization\n",
    "    num_iter=0\n",
    "    X=initialdepots\n",
    "    Gap=[]\n",
    "    DistanceArray=np.round(EuclideanDistance(distance), 2)\n",
    "    AssignmentArray=Assignment(DistanceArray,initialdepots)\n",
    "    Z=ObjectiveValue(AssignmentArray, DistanceArray, demands, initialdepots)\n",
    "    while True:\n",
    "        num_iter+=1\n",
    "        k=0\n",
    "        while k<len(K):\n",
    "            #shaking\n",
    "            XPrime=K[k](X,p,n)\n",
    "            #local_search\n",
    "            o,XPrime2=NeighboorSwap1(XPrime, p, n, DistanceArray, demands)\n",
    "            ZPrime2=min(o)\n",
    "            Gap.append(Z-ZPrime2)\n",
    "            if ZPrime2<Z:\n",
    "                X=list(XPrime2[o.index(ZPrime2)])\n",
    "                Z=ZPrime2\n",
    "                BestIteration=num_iter\n",
    "            else:\n",
    "                k+=1\n",
    "        if all(x <= 0 for x in Gap[-20:]):\n",
    "            break\n",
    "    CPU_time=(time.time() - start_time)\n",
    "    return np.round(Z,2), X, BestIteration , num_iter, np.round(CPU_time,2)"
   ]
  },
  {
   "cell_type": "code",
   "execution_count": 56,
   "metadata": {},
   "outputs": [],
   "source": [
    "#SA Solutions: VNS_Solution_pNumberOfDepotsnNumberOfCustomers\n",
    "VNS_Solution_p4n51=[]\n",
    "for i in range (0,10):\n",
    "    VNS_Solution_p4n51.append(VNS(InitialSolutions51_4[i],z51, dem51,4,51))\n",
    "VNS_Solution_p6n51=[]\n",
    "for i in range (0,10):\n",
    "    VNS_Solution_p6n51.append(VNS(InitialSolutions51_6[i],z51, dem51,6,51))\n",
    "VNS_Solution_p8n51=[]\n",
    "for i in range (0,10):\n",
    "    VNS_Solution_p8n51.append(VNS(InitialSolutions51_8[i],z51, dem51,8,51)) "
   ]
  },
  {
   "cell_type": "code",
   "execution_count": 57,
   "metadata": {},
   "outputs": [
    {
     "data": {
      "text/plain": [
       "[(7742.94, [22, 16, 21, 8], 2, 8, 2.12),\n",
       " (7555.76, [28, 7, 48, 3], 4, 10, 2.61),\n",
       " (7662.67, [13, 16, 7, 49], 2, 8, 1.56),\n",
       " (7588.83, [8, 3, 7, 19], 2, 8, 1.91),\n",
       " (7555.76, [28, 3, 7, 48], 5, 11, 2.5),\n",
       " (7555.76, [28, 3, 7, 48], 3, 9, 1.9),\n",
       " (7555.76, [28, 48, 3, 7], 3, 9, 2.39),\n",
       " (7555.76, [48, 3, 7, 28], 8, 14, 3.68),\n",
       " (7555.76, [3, 7, 28, 48], 1, 7, 1.37),\n",
       " (7662.67, [7, 16, 13, 49], 8, 14, 3.0)]"
      ]
     },
     "execution_count": 57,
     "metadata": {},
     "output_type": "execute_result"
    }
   ],
   "source": [
    "VNS_Solution_p4n51"
   ]
  },
  {
   "cell_type": "code",
   "execution_count": 58,
   "metadata": {},
   "outputs": [
    {
     "data": {
      "text/plain": [
       "[(5890.22, [16, 28, 18, 13, 48, 7], 9, 15, 7.45),\n",
       " (5918.37, [48, 13, 28, 7, 46, 41], 4, 10, 4.85),\n",
       " (5836.88, [13, 18, 8, 7, 36, 19], 7, 13, 6.49),\n",
       " (6050.62, [0, 48, 28, 46, 25, 18], 3, 9, 4.91),\n",
       " (6025.07, [0, 25, 16, 8, 19, 13], 7, 14, 6.59),\n",
       " (5930.54, [8, 36, 18, 34, 7, 13], 2, 8, 3.98),\n",
       " (5922.18, [11, 8, 19, 41, 7, 13], 6, 12, 6.41),\n",
       " (5965.01, [46, 14, 18, 19, 7, 8], 3, 9, 4.67),\n",
       " (5890.22, [28, 16, 7, 13, 18, 48], 3, 9, 5.36),\n",
       " (5890.22, [16, 18, 28, 7, 48, 13], 8, 14, 7.39)]"
      ]
     },
     "execution_count": 58,
     "metadata": {},
     "output_type": "execute_result"
    }
   ],
   "source": [
    "VNS_Solution_p6n51"
   ]
  },
  {
   "cell_type": "code",
   "execution_count": 59,
   "metadata": {},
   "outputs": [
    {
     "data": {
      "text/plain": [
       "[(4704.48, [0, 18, 25, 46, 8, 19, 14, 13], 13, 19, 15.76),\n",
       " (4704.48, [25, 0, 8, 18, 46, 14, 19, 13], 4, 10, 9.2),\n",
       " (4704.48, [18, 13, 19, 8, 25, 14, 0, 46], 7, 13, 10.79),\n",
       " (4770.61, [34, 0, 9, 18, 13, 16, 49, 25], 4, 10, 9.15),\n",
       " (4725.67, [18, 0, 8, 14, 7, 19, 13, 46], 12, 18, 15.11),\n",
       " (4823.27, [9, 46, 13, 49, 34, 0, 25, 18], 5, 11, 9.89),\n",
       " (4767.28, [25, 13, 8, 40, 0, 19, 14, 46], 2, 8, 8.22),\n",
       " (4770.61, [16, 49, 34, 25, 18, 13, 0, 9], 6, 12, 10.47),\n",
       " (4704.48, [19, 18, 8, 13, 0, 14, 25, 46], 5, 11, 10.04),\n",
       " (4797.18, [49, 9, 0, 16, 13, 19, 18, 25], 7, 13, 11.65)]"
      ]
     },
     "execution_count": 59,
     "metadata": {},
     "output_type": "execute_result"
    }
   ],
   "source": [
    "VNS_Solution_p8n51"
   ]
  },
  {
   "cell_type": "code",
   "execution_count": 60,
   "metadata": {},
   "outputs": [],
   "source": [
    "VNS_Solution_p4n76=[]\n",
    "for i in range (0,10):\n",
    "    VNS_Solution_p4n76.append(VNS(InitialSolutions76_4[i],z76,dem76,4,76))\n",
    "VNS_Solution_p6n76=[]\n",
    "for i in range (0,10):\n",
    "    VNS_Solution_p6n76.append(VNS(InitialSolutions76_6[i],z76,dem76,6,76))\n",
    "VNS_Solution_p8n76=[]\n",
    "for i in range (0,10):\n",
    "    VNS_Solution_p8n76.append(VNS(InitialSolutions76_8[i],z76,dem76,8,76)) "
   ]
  },
  {
   "cell_type": "code",
   "execution_count": 61,
   "metadata": {},
   "outputs": [
    {
     "data": {
      "text/plain": [
       "[(23095.52, [4, 0, 31, 52], 7, 13, 6.78),\n",
       " (23072.88, [4, 39, 0, 10], 7, 14, 6.75),\n",
       " (23072.88, [4, 39, 10, 0], 2, 8, 4.73),\n",
       " (23095.52, [52, 4, 31, 0], 7, 13, 7.03),\n",
       " (23072.88, [0, 39, 10, 4], 3, 9, 4.59),\n",
       " (23095.52, [4, 0, 52, 31], 14, 20, 10.99),\n",
       " (23095.52, [31, 0, 4, 52], 4, 10, 4.96),\n",
       " (23548.29, [0, 38, 36, 7], 8, 14, 7.3),\n",
       " (23072.88, [4, 0, 10, 39], 3, 9, 4.52),\n",
       " (23095.52, [31, 52, 0, 4], 3, 9, 4.86)]"
      ]
     },
     "execution_count": 61,
     "metadata": {},
     "output_type": "execute_result"
    }
   ],
   "source": [
    "VNS_Solution_p4n76"
   ]
  },
  {
   "cell_type": "code",
   "execution_count": 62,
   "metadata": {},
   "outputs": [
    {
     "data": {
      "text/plain": [
       "[(18405.31, [10, 43, 71, 46, 42, 51], 5, 11, 13.04),\n",
       " (18444.39, [31, 36, 10, 45, 40, 72], 7, 13, 14.94),\n",
       " (18078.04, [42, 20, 31, 33, 37, 36], 5, 11, 12.69),\n",
       " (17705.87, [42, 37, 75, 12, 46, 31], 4, 10, 10.72),\n",
       " (17705.87, [37, 31, 75, 42, 46, 12], 6, 12, 14.67),\n",
       " (17705.87, [46, 75, 37, 12, 42, 31], 6, 12, 14.07),\n",
       " (17705.87, [42, 46, 37, 31, 12, 75], 12, 18, 18.61),\n",
       " (17705.87, [37, 46, 12, 31, 75, 42], 11, 17, 18.86),\n",
       " (17705.87, [42, 46, 75, 12, 37, 31], 14, 20, 20.59),\n",
       " (17990.38, [10, 12, 42, 31, 46, 75], 10, 16, 15.31)]"
      ]
     },
     "execution_count": 62,
     "metadata": {},
     "output_type": "execute_result"
    }
   ],
   "source": [
    "VNS_Solution_p6n76"
   ]
  },
  {
   "cell_type": "code",
   "execution_count": 63,
   "metadata": {},
   "outputs": [
    {
     "data": {
      "text/plain": [
       "[(15183.5, [71, 12, 72, 35, 40, 43, 75, 10], 8, 14, 31.51),\n",
       " (15270.06, [40, 72, 36, 12, 37, 31, 20, 75], 5, 11, 22.64),\n",
       " (15187.63, [10, 12, 43, 75, 36, 20, 42, 71], 9, 15, 28.57),\n",
       " (15187.63, [43, 20, 12, 75, 10, 71, 36, 42], 15, 21, 39.75),\n",
       " (15517.55, [36, 72, 10, 71, 20, 40, 45, 43], 10, 16, 30.15),\n",
       " (15339.16, [35, 18, 75, 72, 31, 12, 37, 40], 11, 17, 32.74),\n",
       " (15183.5, [10, 35, 75, 12, 72, 40, 43, 71], 9, 15, 32.83),\n",
       " (15339.16, [37, 12, 40, 35, 31, 18, 75, 72], 15, 21, 39.87),\n",
       " (15183.5, [71, 43, 10, 12, 40, 35, 72, 75], 3, 9, 17.63),\n",
       " (15183.5, [40, 10, 35, 75, 12, 72, 43, 71], 14, 20, 36.55)]"
      ]
     },
     "execution_count": 63,
     "metadata": {},
     "output_type": "execute_result"
    }
   ],
   "source": [
    "VNS_Solution_p8n76"
   ]
  },
  {
   "cell_type": "code",
   "execution_count": 64,
   "metadata": {},
   "outputs": [],
   "source": [
    "VNS_Solution_p4n101=[]\n",
    "for i in range (0,10):\n",
    "    VNS_Solution_p4n101.append(VNS(InitialSolutions101_4[i],z101, dem101,4,101))\n",
    "VNS_Solution_p6n101=[]\n",
    "for i in range (0,10):\n",
    "    VNS_Solution_p6n101.append(VNS(InitialSolutions101_6[i],z101, dem101,6,101))\n",
    "VNS_Solution_p8n101=[]\n",
    "for i in range (0,10):\n",
    "    VNS_Solution_p8n101.append(VNS(InitialSolutions101_8[i],z101, dem101,8,101)) "
   ]
  },
  {
   "cell_type": "code",
   "execution_count": 65,
   "metadata": {},
   "outputs": [
    {
     "data": {
      "text/plain": [
       "[(54147.08, [71, 92, 6, 32], 5, 11, 9.64),\n",
       " (54147.08, [6, 32, 71, 92], 8, 14, 11.71),\n",
       " (54168.26, [55, 58, 6, 32], 5, 11, 8.92),\n",
       " (54168.26, [55, 32, 6, 58], 1, 7, 5.58),\n",
       " (54147.08, [6, 71, 32, 92], 3, 9, 7.99),\n",
       " (54168.26, [32, 6, 58, 55], 5, 11, 8.55),\n",
       " (54147.08, [92, 71, 32, 6], 4, 10, 9.34),\n",
       " (54168.26, [32, 6, 55, 58], 9, 15, 12.91),\n",
       " (54147.08, [71, 32, 6, 92], 7, 13, 10.27),\n",
       " (54147.08, [92, 71, 6, 32], 6, 12, 9.73)]"
      ]
     },
     "execution_count": 65,
     "metadata": {},
     "output_type": "execute_result"
    }
   ],
   "source": [
    "VNS_Solution_p4n101"
   ]
  },
  {
   "cell_type": "code",
   "execution_count": 66,
   "metadata": {},
   "outputs": [
    {
     "data": {
      "text/plain": [
       "[(44019.3, [8, 97, 75, 9, 55, 81], 6, 12, 23.99),\n",
       " (43380.44, [19, 55, 26, 76, 81, 97], 6, 12, 24.22),\n",
       " (43341.09, [2, 26, 55, 97, 19, 81], 10, 16, 30.38),\n",
       " (44824.24, [54, 8, 75, 21, 6, 92], 2, 8, 15.89),\n",
       " (43869.65, [79, 92, 8, 68, 73, 81], 7, 13, 24.42),\n",
       " (44067.37, [92, 8, 81, 75, 74, 9], 8, 14, 26.08),\n",
       " (43341.09, [2, 19, 55, 97, 81, 26], 4, 10, 18.6),\n",
       " (43380.44, [26, 19, 55, 76, 97, 81], 8, 14, 25.32),\n",
       " (44020.99, [75, 81, 9, 92, 8, 73], 5, 11, 20.74),\n",
       " (43476.8, [81, 19, 2, 26, 92, 74], 7, 13, 25.74)]"
      ]
     },
     "execution_count": 66,
     "metadata": {},
     "output_type": "execute_result"
    }
   ],
   "source": [
    "VNS_Solution_p6n101"
   ]
  },
  {
   "cell_type": "code",
   "execution_count": 67,
   "metadata": {},
   "outputs": [
    {
     "data": {
      "text/plain": [
       "[(36984.35, [76, 81, 9, 92, 21, 26, 54, 70], 7, 13, 45.93),\n",
       " (37523.9, [26, 82, 73, 24, 61, 97, 67, 8], 7, 13, 43.91),\n",
       " (37577.25, [81, 2, 54, 100, 92, 70, 29, 21], 8, 14, 49.57),\n",
       " (36972.23, [26, 21, 2, 70, 81, 9, 54, 92], 6, 12, 43.01),\n",
       " (37175.82, [67, 21, 8, 26, 92, 89, 24, 81], 7, 13, 53.39),\n",
       " (36972.23, [81, 26, 21, 9, 54, 92, 70, 2], 7, 13, 54.01),\n",
       " (36972.23, [54, 70, 9, 92, 2, 21, 81, 26], 15, 21, 78.51),\n",
       " (37578.12, [26, 54, 21, 2, 82, 19, 18, 97], 1, 7, 30.68),\n",
       " (36972.23, [81, 70, 92, 26, 54, 9, 2, 21], 9, 15, 52.91),\n",
       " (37607.25, [79, 81, 26, 41, 55, 8, 92, 9], 1, 7, 22.61)]"
      ]
     },
     "execution_count": 67,
     "metadata": {},
     "output_type": "execute_result"
    }
   ],
   "source": [
    "VNS_Solution_p8n101"
   ]
  }
 ],
 "metadata": {
  "kernelspec": {
   "display_name": "Python 3",
   "language": "python",
   "name": "python3"
  },
  "language_info": {
   "codemirror_mode": {
    "name": "ipython",
    "version": 3
   },
   "file_extension": ".py",
   "mimetype": "text/x-python",
   "name": "python",
   "nbconvert_exporter": "python",
   "pygments_lexer": "ipython3",
   "version": "3.8.5"
  }
 },
 "nbformat": 4,
 "nbformat_minor": 4
}
